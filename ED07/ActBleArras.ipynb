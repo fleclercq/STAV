{
 "cells": [
  {
   "cell_type": "markdown",
   "metadata": {},
   "source": [
    "# ED07\n",
    "## Activité : Somme des températures et action sur le blé\n",
    "La quantité de chaleur nécessaire au développement du blé se mesure en faisant la somme des températures au dessus de 0°C. L’unité de cette mesure est le degré jour (DJ). Le degré jour d’une journée est calculé en faisant la moyenne arithmétique de la température la plus basse et de la température la plus haute de la journée. Pour déterminer si le blé a atteint un stade phénologique donné (pousse des feuilles, tallage, floraison, fructification, maturité), il suffit de comparer la somme des températures pendant sa période de croissance avec les valeurs spécifiques au blé sous réserve qu'il n'y ait pas d'autres facteurs limitant comme le manque d'eau par exemple.\n",
    "\n",
    "<IMG src=\"https://upload.wikimedia.org/wikipedia/commons/7/71/Wheat_field.jpg\">\n",
    "\n",
    "Image issue de Wikipédia : https://fr.wikipedia.org/wiki/Bl%C3%A9\n",
    "\n",
    "- semis – germination : 30 DJ\n",
    "- semis – levée : 180-200 DJ\n",
    "- semis – début tallage : 550 DJ\n",
    "- semis – épi 1 cm : 1100 DJ\n",
    "- semis – 2 nœuds : 1300 DJ\n",
    "- semis – épiaison : 2000 DJ\n",
    "- semis – grain pâteux : 2800 DJ\n",
    "\n",
    "Exemple : il faut en moyenne 30 DJ pour que le blé germe, soit trois jours à 10 °C ou 10 jours à 3 °C.\n",
    "\n",
    "On sème du blé le 1 novembre 2018 près d’Arras dans les Hauts-de-France et on note chaque jour, depuis le semis, la température mesurée. source www.historique-meteo.net\n",
    "\n",
    "\n",
    "On souhaite écrire maintenant un programme en Python qui lance des alertes pour que l’on aille vérifier si tout se passe bien dans le champ de blé. \n",
    "\n",
    "Soit $(u_n)$  la suite des températures moyennes quotidiennes et $(S_n)$  la suite des sommes des températures. Ces suites commencent avec $u_1$  et $S_1$  la température moyenne du 1er novembre 2018.\n",
    "\n",
    "On remarque que $S_{n+1} = S_n + u_n$\n",
    "\n",
    "+\tDans le programme suivant, on importe deux fonctions écrites par les auteurs de votre livre.\n",
    "+   La fonction `InitialisationCapteur` prépare le thermomètre.\n",
    "+\tLa fonction `AttendreTempérature` renvoie la température moyenne du jour.\n",
    "\n",
    "## Question 9.a.\n",
    "\n",
    "Compléter les pointillés du programme ci-dessous sachant que les deux premiers pointillés servent à initialiser la somme avec $u_1$  et les deux pointillés suivants permettent de calculer $S_{n+1}$. \n"
   ]
  },
  {
   "cell_type": "code",
   "execution_count": null,
   "metadata": {},
   "outputs": [],
   "source": [
    "from DJArras2019 import *      # bibliothèque de liaison avec le thermomètre\n",
    "\n",
    "InitialisationCapteur()\n",
    "\n",
    "Somme = ...\n",
    "n = ...\n",
    "\n",
    "while Somme < 200:\n",
    "    Somme = ...\n",
    "    n = ...\n",
    "\n",
    "print(\"Alerte levée jour n°\",n)"
   ]
  },
  {
   "cell_type": "markdown",
   "metadata": {},
   "source": [
    "## Question 9.b.\n",
    "\n",
    "Ajouter une suite au programme pour alerter l’arrivée de l’épi 1cm.\n",
    "\n",
    "Rappel :\n",
    "\n",
    "- semis – germination : 30 DJ\n",
    "- semis – levée : 180-200 DJ\n",
    "- semis – début tallage : 550 DJ\n",
    "- semis – épi 1 cm : 1100 DJ\n",
    "- semis – 2 nœuds : 1300 DJ\n",
    "- semis – épiaison : 2000 DJ\n",
    "- semis – grain pâteux : 2800 DJ"
   ]
  },
  {
   "cell_type": "code",
   "execution_count": null,
   "metadata": {},
   "outputs": [],
   "source": [
    "from DJArras2019 import *      # bibliothèque de liaison avec le thermomètre\n",
    "\n",
    "InitialisationCapteur()\n",
    "\n",
    "# copier-coller la solution du cadre de code ci-dessus pour le compléter avec la réponse à la question 9.b."
   ]
  },
  {
   "cell_type": "markdown",
   "metadata": {},
   "source": [
    "## Question 9.c.\n",
    "\n",
    "Ajouter une suite au programme pour alerter l’arrivée du grain pâteux.\n",
    "\n",
    "Rappel :\n",
    "\n",
    "- semis – germination : 30 DJ\n",
    "- semis – levée : 180-200 DJ\n",
    "- semis – début tallage : 550 DJ\n",
    "- semis – épi 1 cm : 1100 DJ\n",
    "- semis – 2 nœuds : 1300 DJ\n",
    "- semis – épiaison : 2000 DJ\n",
    "- semis – grain pâteux : 2800 DJ"
   ]
  },
  {
   "cell_type": "code",
   "execution_count": null,
   "metadata": {},
   "outputs": [],
   "source": [
    "from DJArras2019 import *      # bibliothèque de liaison avec le thermomètre\n",
    "\n",
    "InitialisationCapteur()\n",
    "\n",
    "# copier-coller la solution du cadre de code ci-dessus pour le compléter avec la réponse à la question 9.c."
   ]
  },
  {
   "cell_type": "markdown",
   "metadata": {},
   "source": [
    "## Question 10.\n",
    "Exécuter le programme pour connaître les trois dates d’alerte."
   ]
  }
 ],
 "metadata": {
  "kernelspec": {
   "display_name": "Python 3",
   "language": "python",
   "name": "python3"
  },
  "language_info": {
   "codemirror_mode": {
    "name": "ipython",
    "version": 3
   },
   "file_extension": ".py",
   "mimetype": "text/x-python",
   "name": "python",
   "nbconvert_exporter": "python",
   "pygments_lexer": "ipython3",
   "version": "3.7.1"
  }
 },
 "nbformat": 4,
 "nbformat_minor": 2
}
