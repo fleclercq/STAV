{
 "cells": [
  {
   "cell_type": "markdown",
   "metadata": {},
   "source": [
    "# ED02\n",
    "## Activité : Dune\n",
    "L’étude du mouvement des dunes permet de prévoir l’évolution de leur protection sur l’écosystème (ou sur les polders par exemple) et de planifier une éventuelle intervention humaine.\n",
    "On a recueilli les données ci-contre sur le recul d’une dune sous l’effet de l’érosion.\n",
    "\n",
    "<IMG src=\"https://upload.wikimedia.org/wikipedia/commons/thumb/d/df/Nord_-_Plage_du_Bray-Dunes_2.JPG/120px-Nord_-_Plage_du_Bray-Dunes_2.JPG\">\n",
    "\n",
    "Image issue de Wikipédia : https://fr.wikipedia.org/wiki/Bray-Dunes\n",
    "\n",
    "On souhaite déterminer en quelle année la dune aura reculé de 60 m afin de planifier une opération de remblayage. Pour cela, on écrit un programme en Python qui va simuler le recul à partir des données déjà observées. \n",
    "\n",
    "```python\n",
    "from numpy.random import choice\n",
    "\n",
    "possible = [0.9,1.1,1.5,1.7,1.9]\n",
    "cumul = choice(possible)\n",
    "rang = 0\n",
    "\n",
    "while cumul < 60:\n",
    "    cumul =  ...\n",
    "    rang =   ...\n",
    "\n",
    "print(\"année limite \",   ...   )\n",
    "```\n",
    "\n",
    "La fonction choice de la bibliothèque `numpy.random` « choisit » une valeur au hasard dans une liste de manière équiprobable. C’est l’instruction `choice(possible)` qui joue le rôle de la suite $(u_n)$.\n",
    "\n",
    "## Question 5.a.\n",
    "\n",
    "Quel est le rôle de la variable cumul ?\n",
    "\n",
    "## Question 5.b.\n",
    "\n",
    "Quel est le rôle de la variable rang ?\n",
    "\n",
    "## Question 5.c.\n",
    "\n",
    "Compléter les trois pointillés dans le programme et le faire fonctionner.\n"
   ]
  },
  {
   "cell_type": "code",
   "execution_count": null,
   "metadata": {},
   "outputs": [],
   "source": [
    "from numpy.random import choice\n",
    "\n",
    "possible = [0.9,1.1,1.5,1.7,1.9]\n",
    "cumul = choice(possible)\n",
    "rang = 0\n",
    "\n",
    "while cumul < 60:\n",
    "    cumul =  ...\n",
    "    rang =   ...\n",
    "\n",
    "print(\"année limite \",   ...   )"
   ]
  },
  {
   "cell_type": "markdown",
   "metadata": {},
   "source": [
    "## Question 6.\n",
    "\n",
    "On modifie le programme de la manière suivante pour conserver toute la suite des cumuls $(v_n)$ et la représenter. Exécuter le programme suivant.\n",
    "\n",
    "Si le graphique n'apparait pas, exécuter à nouveau le code. Obtient-on toujours la même représentation graphique ?"
   ]
  },
  {
   "cell_type": "code",
   "execution_count": null,
   "metadata": {},
   "outputs": [],
   "source": [
    "from numpy.random import choice\n",
    "\n",
    "possible = [0.9,1.1,1.5,1.7,1.9]\n",
    "cumul = [choice(possible)]\n",
    "\n",
    "while cumul[-1] < 60:\n",
    "    cumul.append(cumul[-1]+choice(possible))\n",
    "\n",
    "import matplotlib.pyplot as graph\n",
    "graph.plot(range(len(cumul)),cumul,\"ro\")\n",
    "graph.title(\"évolution du cumul du recul\")\n",
    "graph.show()"
   ]
  },
  {
   "cell_type": "markdown",
   "metadata": {},
   "source": [
    "## Question 7.\n",
    "\n",
    "En comparant les deux programmes précédents, conjecturer la signification de\n",
    "```python\n",
    "cumul[-1]\n",
    "```"
   ]
  },
  {
   "cell_type": "code",
   "execution_count": null,
   "metadata": {},
   "outputs": [],
   "source": []
  },
  {
   "cell_type": "markdown",
   "metadata": {},
   "source": [
    "Comment obtient-on la première valeur de la liste ? Essayer la réponse dans le code ci-dessus."
   ]
  },
  {
   "cell_type": "markdown",
   "metadata": {},
   "source": [
    "## Question 8.a.\n",
    "\n",
    "Une fois le programme exécuté, que doit-on écrire dans la console pour obtenir le premier terme de $(v_n)$ ?\n"
   ]
  },
  {
   "cell_type": "code",
   "execution_count": null,
   "metadata": {},
   "outputs": [],
   "source": []
  },
  {
   "cell_type": "markdown",
   "metadata": {},
   "source": [
    "## Question 8.b.\n",
    "\n",
    "Une fois le programme exécuté, que doit-on écrire dans la console pour obtenir le rang du dernier terme de $(v_n)$ ?\n"
   ]
  },
  {
   "cell_type": "code",
   "execution_count": null,
   "metadata": {},
   "outputs": [],
   "source": []
  },
  {
   "cell_type": "markdown",
   "metadata": {},
   "source": [
    "## Question 8.c.\n",
    "\n",
    "Une fois le programme exécuté, que doit-on écrire dans la console pour obtenir la valeur du dernier terme de $(v_n)$ ?"
   ]
  },
  {
   "cell_type": "code",
   "execution_count": null,
   "metadata": {},
   "outputs": [],
   "source": []
  },
  {
   "cell_type": "markdown",
   "metadata": {},
   "source": [
    "## Question 9.\n",
    "\n",
    "Les points semblent à peu près alignés. On donne les valeurs des premiers et derniers termes. \n",
    "\n",
    "$v_0=1,9$ et $v_{42}=61,8$\n",
    "\n",
    "Estimer une équation de la droite à l’aide de ces valeurs."
   ]
  },
  {
   "cell_type": "code",
   "execution_count": null,
   "metadata": {},
   "outputs": [],
   "source": []
  },
  {
   "cell_type": "markdown",
   "metadata": {},
   "source": [
    "## Question 10.\n",
    "\n",
    "Calculer la moyenne des valeurs de recul utilisées dans la simulation."
   ]
  },
  {
   "cell_type": "code",
   "execution_count": null,
   "metadata": {},
   "outputs": [],
   "source": []
  },
  {
   "cell_type": "markdown",
   "metadata": {},
   "source": [
    "## Question 11.\n",
    "\n",
    "Conclusion : Comment se comporte approximativement la suite $(v_n)$  d’après la simulation ?"
   ]
  }
 ],
 "metadata": {
  "kernelspec": {
   "display_name": "Python 3",
   "language": "python",
   "name": "python3"
  },
  "language_info": {
   "codemirror_mode": {
    "name": "ipython",
    "version": 3
   },
   "file_extension": ".py",
   "mimetype": "text/x-python",
   "name": "python",
   "nbconvert_exporter": "python",
   "pygments_lexer": "ipython3",
   "version": "3.7.1"
  }
 },
 "nbformat": 4,
 "nbformat_minor": 2
}
