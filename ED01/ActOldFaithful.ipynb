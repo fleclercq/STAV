{
 "cells": [
  {
   "cell_type": "markdown",
   "metadata": {},
   "source": [
    "# ED01\n",
    "## Activité : Old Faithful\n",
    "Le Old Faithful (« vieux fidèle » en anglais) est un geyser situé dans le parc national de Yellowstone, aux États-Unis. Ce geyser produit l'un des plus grands jets d'eau chaude et de vapeur au monde. \n",
    "\n",
    "<IMG src=\"https://upload.wikimedia.org/wikipedia/commons/thumb/2/2f/Ynp-old-faithful.jpg/120px-Ynp-old-faithful.jpg\">\n",
    "\n",
    "Image issue de Wikipédia : https://fr.wikipedia.org/wiki/Old_Faithful\n",
    "\n",
    "On souhaite étudier ses caractéristiques temporelles. Pour cela, on note l’horaire de chaque éruption. Pour simplifier le traitement de ces données, les horaires ont été convertis en secondes.\n",
    "Pour cet exercice, on utilise les 740 véritables données consécutives recueillies entre le 11 octobre et le 25 novembre 2000 et accessibles sur le site www.geyserstudy.org.\n",
    "\n",
    "+\tDans le programme suivant, on importe une fonction écrite par les auteurs de votre livre.\n",
    "+\tLa fonction `AttendreEruption` renvoie l’horaire de la prochaine éruption du geyser en seconde comme dans les questions précédentes.\n",
    "+\t`Eruptions` est une liste, c’est l’équivalent Python de la suite en mathématiques.\n",
    "+\t`append()` est une méthode qui ajoute un élément à la liste associée.\n"
   ]
  },
  {
   "cell_type": "code",
   "execution_count": null,
   "metadata": {},
   "outputs": [],
   "source": [
    "from OldFaithful import AttendreEruption      # bibliothèque de liaison avec le capteur\n",
    "\n",
    "Eruptions = []\n",
    "for compteur in range(4):\n",
    "    Eruptions.append(AttendreEruption())\n",
    "\n",
    "print(Eruptions)"
   ]
  },
  {
   "cell_type": "markdown",
   "metadata": {},
   "source": [
    "## Question 3.a.\n",
    "\n",
    "Exécuter le programme ci-dessus et décrire la forme du résultat.\n"
   ]
  },
  {
   "cell_type": "markdown",
   "metadata": {},
   "source": [
    "## Question 3.b.\n",
    "\n",
    "Pour accéder aux objets de la liste, on écrit `Eruptions[valeur]`.\n",
    "\n",
    "Exécuter l'instruction suivante `print(Eruptions[2])` dans le code ci-dessous, Qu'obtient-on ? Expliquer ce qu’est alors la valeur 2 pour la liste `Eruptions`.\n"
   ]
  },
  {
   "cell_type": "code",
   "execution_count": null,
   "metadata": {},
   "outputs": [],
   "source": [
    "print(Eruptions[2])"
   ]
  },
  {
   "cell_type": "markdown",
   "metadata": {},
   "source": [
    "Comment obtient-on la première valeur de la liste ? Essayer la réponse dans le code ci-dessus."
   ]
  },
  {
   "cell_type": "markdown",
   "metadata": {},
   "source": [
    "## Question 3.c.\n",
    "\n",
    "La fonction `len(liste)` renvoie la longueur (length) de la liste. Exécuter l’instruction suivante `print(Eruptions[len(Eruptions)])`. Quelle erreur est renvoyée ? Pourquoi ? "
   ]
  },
  {
   "cell_type": "code",
   "execution_count": null,
   "metadata": {},
   "outputs": [],
   "source": [
    "print(Eruptions[len(Eruptions)])"
   ]
  },
  {
   "cell_type": "markdown",
   "metadata": {},
   "source": [
    "Comment obtient-on la dernière valeur de la liste ? Essayer la réponse dans le code ci-dessus."
   ]
  },
  {
   "cell_type": "markdown",
   "metadata": {},
   "source": [
    "## Question 3.d.\n",
    "\n",
    "Exécuter le code suivant avant de répondre à la question."
   ]
  },
  {
   "cell_type": "code",
   "execution_count": null,
   "metadata": {},
   "outputs": [],
   "source": [
    "from OldFaithful import AttendreEruption      # Fonction des auteurs\n",
    "from OldFaithful import RemiseAZero           # Fonction des auteurs\n",
    "RemiseAZero()\n",
    "Eruptions = []\n",
    "for compteur in range(740):\n",
    "    Eruptions.append(AttendreEruption())"
   ]
  },
  {
   "cell_type": "markdown",
   "metadata": {},
   "source": [
    "Le code précédent a permis de remplir la liste `Eruptions` avec les 740 valeurs de l'expérience.\n",
    "\n",
    "Compléter le programme ci-dessous pour obtenir la liste des 739 écarts."
   ]
  },
  {
   "cell_type": "code",
   "execution_count": null,
   "metadata": {},
   "outputs": [],
   "source": [
    "Ecarts = []\n",
    "for compteur in range(739):\n",
    "    écart = Eruptions[ ] - Eruptions[ ]      # il faut compléter les valeurs entre les crochets (2 fois)\n",
    "    if écart < 0: écart = écart +            # il faut compléter la fin de la somme\n",
    "    Ecarts.append(écart)"
   ]
  },
  {
   "cell_type": "markdown",
   "metadata": {},
   "source": [
    "## Question 3.e.\n",
    "\n",
    "À l’aide des instructions suivantes, on obtient la représentation graphique de la suite des écarts. "
   ]
  },
  {
   "cell_type": "code",
   "execution_count": null,
   "metadata": {},
   "outputs": [],
   "source": [
    "import matplotlib.pyplot as graph\n",
    "graph.plot(range(739),Ecarts,'r+')\n",
    "graph.title('Représentation des écarts')\n",
    "graph.show()"
   ]
  },
  {
   "cell_type": "markdown",
   "metadata": {},
   "source": [
    "Conjecturer la valeur de l’écart moyen ainsi que les valeurs extrêmes de ces écarts."
   ]
  },
  {
   "cell_type": "code",
   "execution_count": null,
   "metadata": {},
   "outputs": [],
   "source": []
  }
 ],
 "metadata": {
  "kernelspec": {
   "display_name": "Python 3",
   "language": "python",
   "name": "python3"
  },
  "language_info": {
   "codemirror_mode": {
    "name": "ipython",
    "version": 3
   },
   "file_extension": ".py",
   "mimetype": "text/x-python",
   "name": "python",
   "nbconvert_exporter": "python",
   "pygments_lexer": "ipython3",
   "version": "3.7.1"
  }
 },
 "nbformat": 4,
 "nbformat_minor": 2
}
